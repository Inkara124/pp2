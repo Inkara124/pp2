{
 "cells": [
  {
   "cell_type": "code",
   "execution_count": 1,
   "id": "22efc93a-cdd4-44e8-b294-c5ad055a30b4",
   "metadata": {},
   "outputs": [
    {
     "name": "stdin",
     "output_type": "stream",
     "text": [
      "Введите строку:  abb\n"
     ]
    },
    {
     "name": "stdout",
     "output_type": "stream",
     "text": [
      "Шаблон найден!\n"
     ]
    }
   ],
   "source": [
    "import re\n",
    "\n",
    "string = input(\"Введите строку: \")\n",
    "if re.fullmatch(r'a*b*', string):\n",
    "    print(\"Шаблон найден!\")\n",
    "else:\n",
    "    print(\"Шаблон не найден.\")"
   ]
  },
  {
   "cell_type": "code",
   "execution_count": 3,
   "id": "102b8f85-78ba-4001-a9a0-0380b4126259",
   "metadata": {},
   "outputs": [
    {
     "name": "stdin",
     "output_type": "stream",
     "text": [
      "Введите строку:  abb\n"
     ]
    },
    {
     "name": "stdout",
     "output_type": "stream",
     "text": [
      "Это правильный формат!\n"
     ]
    }
   ],
   "source": [
    "import re\n",
    "\n",
    "string = input(\"Введите строку: \")\n",
    "if re.fullmatch(r'ab{2,3}', string):\n",
    "    print(\"Это правильный формат!\")\n",
    "else:\n",
    "    print(\"Это неправильный формат.\")"
   ]
  },
  {
   "cell_type": "code",
   "execution_count": 5,
   "id": "39397778-0e10-4a70-9cb0-52f72cc8eb89",
   "metadata": {},
   "outputs": [
    {
     "name": "stdin",
     "output_type": "stream",
     "text": [
      "Введите строку:  hello_world\n"
     ]
    },
    {
     "name": "stdout",
     "output_type": "stream",
     "text": [
      "Обнаруженные элементы: ['hello_world']\n"
     ]
    }
   ],
   "source": [
    "import re\n",
    "\n",
    "string = input(\"Введите строку: \")\n",
    "matches = re.findall(r'\\b[a-z]+_[a-z]+\\b', string)\n",
    "print(\"Обнаруженные элементы:\", matches if matches else \"Ничего не найдено.\")\n"
   ]
  },
  {
   "cell_type": "code",
   "execution_count": 7,
   "id": "d28dab29-3f75-43ad-b2e7-a76fa043e9b1",
   "metadata": {},
   "outputs": [
    {
     "name": "stdin",
     "output_type": "stream",
     "text": [
      "Введите строку:  Hello World\n"
     ]
    },
    {
     "name": "stdout",
     "output_type": "stream",
     "text": [
      "Нашлись такие слова: ['Hello', 'World']\n"
     ]
    }
   ],
   "source": [
    "import re\n",
    "\n",
    "string = input(\"Введите строку: \")\n",
    "matches = re.findall(r'[A-Z][a-z]+', string)\n",
    "print(\"Нашлись такие слова:\", matches if matches else \"Совпадений нет.\")"
   ]
  },
  {
   "cell_type": "code",
   "execution_count": 9,
   "id": "ff72f27c-13cc-43de-903a-9d4b9e5b639d",
   "metadata": {},
   "outputs": [
    {
     "name": "stdin",
     "output_type": "stream",
     "text": [
      "Введите строку:  ayyb\n"
     ]
    },
    {
     "name": "stdout",
     "output_type": "stream",
     "text": [
      "Формат верный!\n"
     ]
    }
   ],
   "source": [
    "import re\n",
    "\n",
    "string = input(\"Введите строку: \")\n",
    "if re.fullmatch(r'a.*b', string):\n",
    "    print(\"Формат верный!\")\n",
    "else:\n",
    "    print(\"Формат неверный.\")"
   ]
  },
  {
   "cell_type": "code",
   "execution_count": 11,
   "id": "74fe9dc1-9b0c-4320-bfe2-19cec1abf625",
   "metadata": {},
   "outputs": [
    {
     "name": "stdin",
     "output_type": "stream",
     "text": [
      "Введите строку:  Hello, World\n"
     ]
    },
    {
     "name": "stdout",
     "output_type": "stream",
     "text": [
      "Результат: Hello::World\n"
     ]
    }
   ],
   "source": [
    "import re\n",
    "\n",
    "string = input(\"Введите строку: \")\n",
    "modified_string = re.sub(r'[ ,.]', ':', string)\n",
    "print(\"Результат:\", modified_string)\n"
   ]
  },
  {
   "cell_type": "code",
   "execution_count": 13,
   "id": "99e3bee5-b3c5-450f-9ec4-1b16926c3403",
   "metadata": {},
   "outputs": [
    {
     "name": "stdin",
     "output_type": "stream",
     "text": [
      "Введите snake_case строку:  hello_world_test\n"
     ]
    },
    {
     "name": "stdout",
     "output_type": "stream",
     "text": [
      "Преобразовано в camelCase: helloWorldTest\n"
     ]
    }
   ],
   "source": [
    "string = input(\"Введите snake_case строку: \")\n",
    "parts = string.split('_')\n",
    "camel_case = parts[0] + ''.join(word.capitalize() for word in parts[1:])\n",
    "print(\"Преобразовано в camelCase:\", camel_case)\n"
   ]
  },
  {
   "cell_type": "code",
   "execution_count": 15,
   "id": "5a2ed10e-cf7f-409b-a5e1-82957c943c78",
   "metadata": {},
   "outputs": [
    {
     "name": "stdin",
     "output_type": "stream",
     "text": [
      "Введите строку:   HelloWorldExample\n"
     ]
    },
    {
     "name": "stdout",
     "output_type": "stream",
     "text": [
      "Разделенные части: ['Hello', 'World', 'Example']\n"
     ]
    }
   ],
   "source": [
    "import re\n",
    "\n",
    "string = input(\"Введите строку: \")\n",
    "split_words = re.findall(r'[A-Z][^A-Z]*', string)\n",
    "print(\"Разделенные части:\", split_words)\n"
   ]
  },
  {
   "cell_type": "code",
   "execution_count": 17,
   "id": "cb4469e4-aaad-4a6e-86fd-5678c1d1dadd",
   "metadata": {},
   "outputs": [
    {
     "name": "stdin",
     "output_type": "stream",
     "text": [
      "Введите строку:  Hello World\n"
     ]
    },
    {
     "name": "stdout",
     "output_type": "stream",
     "text": [
      "Исправленный вариант: Hello World\n"
     ]
    }
   ],
   "source": [
    "import re\n",
    "\n",
    "string = input(\"Введите строку: \")\n",
    "modified_string = re.sub(r'([a-z])([A-Z])', r'\\1 \\2', string)\n",
    "print(\"Исправленный вариант:\", modified_string)\n"
   ]
  },
  {
   "cell_type": "code",
   "execution_count": 19,
   "id": "95ac1bb7-bdc8-4109-b84b-e97bc5a0e32f",
   "metadata": {},
   "outputs": [
    {
     "name": "stdin",
     "output_type": "stream",
     "text": [
      "Введите camelCase строку:  helloWorldExample\n"
     ]
    },
    {
     "name": "stdout",
     "output_type": "stream",
     "text": [
      "Переведено в snake_case: hello_world_example\n"
     ]
    }
   ],
   "source": [
    "import re\n",
    "\n",
    "string = input(\"Введите camelCase строку: \")\n",
    "snake_case = re.sub(r'([a-z])([A-Z])', r'\\1_\\2', string).lower()\n",
    "print(\"Переведено в snake_case:\", snake_case)\n"
   ]
  }
 ],
 "metadata": {
  "kernelspec": {
   "display_name": "Python [conda env:base] *",
   "language": "python",
   "name": "conda-base-py"
  },
  "language_info": {
   "codemirror_mode": {
    "name": "ipython",
    "version": 3
   },
   "file_extension": ".py",
   "mimetype": "text/x-python",
   "name": "python",
   "nbconvert_exporter": "python",
   "pygments_lexer": "ipython3",
   "version": "3.12.7"
  }
 },
 "nbformat": 4,
 "nbformat_minor": 5
}
