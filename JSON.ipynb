{
 "cells": [
  {
   "cell_type": "code",
   "execution_count": 7,
   "id": "c81cb294-34dd-44bb-9d74-98db38d4b887",
   "metadata": {},
   "outputs": [
    {
     "name": "stdout",
     "output_type": "stream",
     "text": [
      "Inherit status\n",
      "====================================================================================\n",
      "DN                                                 Description           Speed    MTU\n",
      "-------------------------------------------------- --------------------  ------  ------\n",
      "topology/pod-1/node-201/sys/phys-[eth1/33]                               inherit   9150\n",
      "topology/pod-1/node-201/sys/phys-[eth1/34]                               inherit   9150\n",
      "topology/pod-1/node-201/sys/phys-[eth1/35]                               inherit   9150\n"
     ]
    }
   ],
   "source": [
    "import json \n",
    "with open(\"sample-data.json\",\"r\") as file:\n",
    "    data=json.load(file)\n",
    "print(\"Inherit status\")\n",
    "print(\"=\"*84)\n",
    "print(\"DN                                                 Description           Speed    MTU\")\n",
    "print (\"-------------------------------------------------- --------------------  ------  ------\")\n",
    "array=data[\"imdata\"]\n",
    "for i in range (3):\n",
    "    dn = array[i][\"l1PhysIf\"][\"attributes\"][\"dn\"]\n",
    "    desc = array[i][\"l1PhysIf\"][\"attributes\"][\"descr\"]\n",
    "    speed = array[i][\"l1PhysIf\"][\"attributes\"][\"speed\"]\n",
    "    mtu = array[i][\"l1PhysIf\"][\"attributes\"][\"mtu\"]\n",
    "    print(f\"{dn}         {desc}                      {speed}   {mtu}\")"
   ]
  }
 ],
 "metadata": {
  "kernelspec": {
   "display_name": "Python [conda env:base] *",
   "language": "python",
   "name": "conda-base-py"
  },
  "language_info": {
   "codemirror_mode": {
    "name": "ipython",
    "version": 3
   },
   "file_extension": ".py",
   "mimetype": "text/x-python",
   "name": "python",
   "nbconvert_exporter": "python",
   "pygments_lexer": "ipython3",
   "version": "3.12.7"
  }
 },
 "nbformat": 4,
 "nbformat_minor": 5
}
