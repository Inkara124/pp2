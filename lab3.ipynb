{
 "cells": [
  {
   "cell_type": "code",
   "execution_count": null,
   "id": "b72cb77c-08b6-4550-a88d-fc66de7a380e",
   "metadata": {},
   "outputs": [],
   "source": [
    "#Python Classes\n",
    "#1\n",
    "class Stringup:\n",
    "    def __init__(self):\n",
    "        self.string=\"\"\n",
    "    def getString(self):\n",
    "        self.string=input(\"Enter a string:\")\n",
    "    def printString(self):\n",
    "        print(self.string.upper())\n",
    "sm=Stringup()\n",
    "sm.getString()\n",
    "sm.printString()"
   ]
  },
  {
   "cell_type": "code",
   "execution_count": 18,
   "id": "07a47b27-76cb-4d50-b24b-2a8a725b5d04",
   "metadata": {},
   "outputs": [
    {
     "name": "stdout",
     "output_type": "stream",
     "text": [
      "16\n"
     ]
    }
   ],
   "source": [
    "# 2\n",
    "class Shape:\n",
    "    def area(self):\n",
    "        return 0\n",
    "\n",
    "class Square(Shape):\n",
    "    def __init__(self, length):\n",
    "        self.length = length\n",
    "\n",
    "    def area(self):\n",
    "        return self.length ** 2\n",
    "\n",
    "s = Square(4)\n",
    "print(s.area()) \n",
    "\n"
   ]
  },
  {
   "cell_type": "code",
   "execution_count": 20,
   "id": "895f7cb1-f726-4ba6-bfb5-1ff39e250e3b",
   "metadata": {},
   "outputs": [
    {
     "name": "stdout",
     "output_type": "stream",
     "text": [
      "20\n"
     ]
    }
   ],
   "source": [
    "# 3\n",
    "class Rectangle(Shape):\n",
    "    def __init__(self, length, width):\n",
    "        self.length = length\n",
    "        self.width = width\n",
    "\n",
    "    def area(self):\n",
    "        return self.length * self.width\n",
    "\n",
    "r = Rectangle(4, 5)\n",
    "print(r.area())  "
   ]
  },
  {
   "cell_type": "code",
   "execution_count": 22,
   "id": "36a2e6b5-b2d1-42ce-bf69-dd98d2232ae1",
   "metadata": {},
   "outputs": [
    {
     "name": "stdout",
     "output_type": "stream",
     "text": [
      "(1, 2)\n",
      "(3, 5)\n"
     ]
    },
    {
     "ename": "AttributeError",
     "evalue": "'Point' object has no attribute 'dist'",
     "output_type": "error",
     "traceback": [
      "\u001b[1;31m---------------------------------------------------------------------------\u001b[0m",
      "\u001b[1;31mAttributeError\u001b[0m                            Traceback (most recent call last)",
      "Cell \u001b[1;32mIn[22], line 23\u001b[0m\n\u001b[0;32m     21\u001b[0m p1\u001b[38;5;241m.\u001b[39mmove(\u001b[38;5;241m2\u001b[39m, \u001b[38;5;241m3\u001b[39m)\n\u001b[0;32m     22\u001b[0m p1\u001b[38;5;241m.\u001b[39mshow()\n\u001b[1;32m---> 23\u001b[0m \u001b[38;5;28mprint\u001b[39m(p1\u001b[38;5;241m.\u001b[39mdist(p2))\n",
      "\u001b[1;31mAttributeError\u001b[0m: 'Point' object has no attribute 'dist'"
     ]
    }
   ],
   "source": [
    "# 4\n",
    "import math\n",
    "class Point:\n",
    "    def __init__(self, x, y):\n",
    "        self.x = x\n",
    "        self.y = y\n",
    "    def show(self):\n",
    "        print(f\"({self.x}, {self.y})\")\n",
    "    def move(self, dx, dy):\n",
    "        self.x += dx\n",
    "        self.y += dy\n",
    "def dist(self, other):\n",
    "        return math.sqrt((self.x - other.x) ** 2 + (self.y - other.y) ** 2)\n",
    "p1 = Point(1, 2)\n",
    "p2 = Point(4, 6)\n",
    "p1.show()\n",
    "p1.move(2, 3)\n",
    "p1.show()\n",
    "print(p1.dist(p2))"
   ]
  },
  {
   "cell_type": "code",
   "execution_count": 24,
   "id": "9b5aa450-c880-42d1-bce3-0f00af0891fe",
   "metadata": {},
   "outputs": [
    {
     "name": "stdout",
     "output_type": "stream",
     "text": [
      "Insufficient funds\n",
      "120\n"
     ]
    }
   ],
   "source": [
    "#5\n",
    "class Account:\n",
    "    def __init__(self, owner, balance=0):\n",
    "        self.owner = owner\n",
    "        self.balance = balance\n",
    "\n",
    "    def deposit(self, amount):\n",
    "        self.balance += amount\n",
    "\n",
    "    def withdraw(self, amount):\n",
    "        if amount > self.balance:\n",
    "            print(\"Insufficient funds\")\n",
    "        else:\n",
    "            self.balance -= amount\n",
    "\n",
    "acc = Account(\"John\", 100)\n",
    "acc.deposit(50)\n",
    "acc.withdraw(30)\n",
    "acc.withdraw(150)\n",
    "print(acc.balance)"
   ]
  },
  {
   "cell_type": "code",
   "execution_count": 26,
   "id": "f258dea4-e1dd-43c7-9628-7e7c74b78157",
   "metadata": {},
   "outputs": [
    {
     "name": "stdout",
     "output_type": "stream",
     "text": [
      "[2, 3, 5, 7]\n"
     ]
    }
   ],
   "source": [
    "# 6\n",
    "nums = [1, 2, 3, 4, 5, 6, 7, 8, 9, 10]\n",
    "primes = list(filter(lambda x: all(x % i != 0 for i in range(2, int(x ** 0.5) + 1)) and x > 1, nums))\n",
    "print(primes)  # Output: [2, 3, 5, 7]"
   ]
  },
  {
   "cell_type": "code",
   "execution_count": 40,
   "id": "c6fab6bb-5627-4906-8a0e-22853ae8069d",
   "metadata": {},
   "outputs": [
    {
     "ename": "ValueError",
     "evalue": "invalid literal for int() with base 10: 'sdm'",
     "output_type": "error",
     "traceback": [
      "\u001b[1;31m---------------------------------------------------------------------------\u001b[0m",
      "\u001b[1;31mValueError\u001b[0m                                Traceback (most recent call last)",
      "Cell \u001b[1;32mIn[40], line 5\u001b[0m\n\u001b[0;32m      3\u001b[0m \u001b[38;5;28;01mdef\u001b[39;00m \u001b[38;5;21mgrams_to_ounces\u001b[39m(grams):\n\u001b[0;32m      4\u001b[0m     \u001b[38;5;28;01mreturn\u001b[39;00m grams\u001b[38;5;241m*\u001b[39m\u001b[38;5;241m28.3495231\u001b[39m\n\u001b[1;32m----> 5\u001b[0m grams\u001b[38;5;241m=\u001b[39m\u001b[38;5;28mint\u001b[39m(\u001b[38;5;28minput\u001b[39m())\n\u001b[0;32m      6\u001b[0m ounces\u001b[38;5;241m=\u001b[39mgrams_to_ounces(grams)\n\u001b[0;32m      7\u001b[0m \u001b[38;5;28mprint\u001b[39m(ounces)\n",
      "\u001b[1;31mValueError\u001b[0m: invalid literal for int() with base 10: 'sdm'"
     ]
    }
   ],
   "source": [
    "#Python Functions\n",
    "#1\n",
    "def grams_to_ounces(grams):\n",
    "    return grams*28.3495231\n",
    "grams=int(input())\n",
    "ounces=grams_to_ounces(grams)\n",
    "print(ounces)"
   ]
  },
  {
   "cell_type": "code",
   "execution_count": null,
   "id": "885985de-1293-47fb-87ed-223534ff10b4",
   "metadata": {},
   "outputs": [],
   "source": [
    "#Python Functions1\n",
    "#2\n",
    "def temp(f):\n",
    "    return (5 / 9) * (f - 32)\n",
    "ff=int(input())\n",
    "c=temp(ff)\n",
    "print(c)"
   ]
  },
  {
   "cell_type": "code",
   "execution_count": 35,
   "id": "f2d9ef3b-736c-422f-8d5c-2d772c20bd2e",
   "metadata": {},
   "outputs": [
    {
     "name": "stdout",
     "output_type": "stream",
     "text": [
      "(23, 12)\n"
     ]
    }
   ],
   "source": [
    "# 3\n",
    "def solve(numheads, numlegs):\n",
    "    for chickens in range(numheads + 1):\n",
    "        rabbits = numheads - chickens\n",
    "        if chickens * 2 + rabbits * 4 == numlegs:\n",
    "            return chickens, rabbits\n",
    "print(solve(35, 94))"
   ]
  },
  {
   "cell_type": "code",
   "execution_count": null,
   "id": "c83c6715-38c2-4300-b107-d39c6810ed42",
   "metadata": {},
   "outputs": [],
   "source": [
    "#4\n",
    "def is_prime(n):\n",
    "    if n<=1:\n",
    "        return False\n",
    "    for i in range (2, int(n**0.5)+1):\n",
    "        if n%i==0:\n",
    "            return False\n",
    "    return True\n",
    "\n",
    "def filter_prime(numbers):\n",
    "    return [num for num in numbers if is_prime(num)]\n",
    "\n",
    "numbers = list(map(int,input(\"enter numbers:\").split()))\n",
    "prime_numbers=filter_prime(numbers)\n",
    "print(\"prime number:\", prime_numbers)"
   ]
  },
  {
   "cell_type": "code",
   "execution_count": null,
   "id": "a8f79f10-2e35-465f-8f84-ccdb4cb74c32",
   "metadata": {},
   "outputs": [],
   "source": [
    "\n",
    "#5\n",
    "def permute(s, answer=\"\"):\n",
    "    if len(s)==0:\n",
    "        print(answer)\n",
    "        return\n",
    "    for i in range(len(s)):\n",
    "        char=s[i]\n",
    "        remaining=s[:i] + s[i+1:]\n",
    "        permute(remaining, answer+char)\n",
    "user_input=input(\"enter a string: \")\n",
    "print(\"permutations of the string:\")\n",
    "permute(user_input)"
   ]
  },
  {
   "cell_type": "code",
   "execution_count": null,
   "id": "7d14ebb3-7f1d-493e-a1e7-f0327f6bc484",
   "metadata": {},
   "outputs": [],
   "source": [
    "#6\n",
    "def reverse_words(sentence):\n",
    "    words=sentence.split()\n",
    "    reversed_words=words[::-1]\n",
    "    return \" \".join(reversed_words)\n",
    "\n",
    "user_input=input(\"enter a sentence: \")\n",
    "reversed_sentence=reverse_words(user_input)\n",
    "print(\"reversed sentence:\", reversed_sentence)"
   ]
  },
  {
   "cell_type": "code",
   "execution_count": null,
   "id": "8f981754-f3d6-4ba0-8300-e34a33cf52ce",
   "metadata": {},
   "outputs": [],
   "source": [
    "# 7\n",
    "def has_33(nums):\n",
    "    return any(nums[i] == nums[i+1] == 3 for i in range(len(nums)-1))\n",
    "print(has_33([1, 3, 3]))\n",
    "print(has_33([1, 3, 1, 3]))"
   ]
  },
  {
   "cell_type": "code",
   "execution_count": null,
   "id": "4ccb518f-295c-424d-b070-830752ad694d",
   "metadata": {},
   "outputs": [],
   "source": [
    "#8\n",
    "def spy_game(nums):\n",
    "    code=[0,0,7]\n",
    "    for num in nums:\n",
    "        if num==code[0]:\n",
    "            code.pop(0)\n",
    "        if not code:\n",
    "            return True\n",
    "    return False\n",
    "\n",
    "print(spy_game([1,2,4,0,0,7,5]))\n",
    "print(spy_game([1,0,2,4,0,5,7]))\n",
    "print(spy_game([1,7,2,0,4,5,0]))"
   ]
  },
  {
   "cell_type": "code",
   "execution_count": null,
   "id": "76876a58-e0b4-49da-833e-eb2661a08709",
   "metadata": {},
   "outputs": [],
   "source": [
    "\n",
    "#9\n",
    "import math\n",
    "\n",
    "def volume(radius):\n",
    "    return (4/3)*math.pi*radius**3\n",
    "\n",
    "radius=float(input())\n",
    "print(volume(radius))"
   ]
  },
  {
   "cell_type": "code",
   "execution_count": null,
   "id": "919d18f2-8894-4d90-ac41-4efa9579f086",
   "metadata": {},
   "outputs": [],
   "source": [
    "#10\n",
    "def unique_elements(lst):\n",
    "    unique_lst=[]\n",
    "    for item in lst:\n",
    "        if item not in unique_lst:\n",
    "            unique_lst.append(item)\n",
    "    return unique_lst\n",
    "\n",
    "input_list=input().split()\n",
    "input_list=[int(i) for i in input_list]\n",
    "print(unique_elements(input_list))"
   ]
  },
  {
   "cell_type": "code",
   "execution_count": null,
   "id": "8777d412-1fd9-4bb7-920d-d4b2d3bd0262",
   "metadata": {},
   "outputs": [],
   "source": [
    "# 11\n",
    "def is_palindrome(s):\n",
    "    s = s.replace(\" \", \"\").lower()\n",
    "    return s == s[::-1]\n",
    "print(is_palindrome(\"madam\"))\n",
    "print(is_palindrome(\"hello\"))\n"
   ]
  },
  {
   "cell_type": "code",
   "execution_count": null,
   "id": "f5da64d4-867e-46a1-ba66-f67f0ccd3dd7",
   "metadata": {},
   "outputs": [],
   "source": [
    "\n",
    "# 12\n",
    "def histogram(lst):\n",
    "    for n in lst:\n",
    "        print(\"*\" * n)\n",
    "histogram([4, 9, 7])\n",
    "\n"
   ]
  },
  {
   "cell_type": "code",
   "execution_count": null,
   "id": "d844ee14-e929-4a61-9cbc-7e2c2a85e8e3",
   "metadata": {},
   "outputs": [],
   "source": [
    "# 13\n",
    "def guess_the_number():\n",
    "    name = input(\"Hello! What is your name? \")\n",
    "    print(f\"Well, {name}, I am thinking of a number between 1 and 20.\")\n",
    "    number = random.randint(1, 20)\n",
    "    attempts = 0\n",
    "    while True:\n",
    "        guess = int(input(\"Take a guess: \"))\n",
    "        attempts += 1\n",
    "        if guess < number:\n",
    "            print(\"Your guess is too low.\")\n",
    "        elif guess > number:\n",
    "            print(\"Your guess is too high.\")\n",
    "        else:\n",
    "            print(f\"Good job, {name}! You guessed my number in {attempts} guesses!\")\n",
    "            break\n"
   ]
  },
  {
   "cell_type": "code",
   "execution_count": null,
   "id": "e7308a94-f397-4a9e-bd34-d941a5508731",
   "metadata": {},
   "outputs": [],
   "source": [
    "#Python Functions2\n",
    "movies = [\n",
    "    {\"name\": \"Usual Suspects\", \"imdb\": 7.0, \"category\": \"Thriller\"},\n",
    "    {\"name\": \"Hitman\", \"imdb\": 6.3, \"category\": \"Action\"},\n",
    "    {\"name\": \"Dark Knight\", \"imdb\": 9.0, \"category\": \"Adventure\"},\n",
    "    {\"name\": \"The Help\", \"imdb\": 8.0, \"category\": \"Drama\"},\n",
    "    {\"name\": \"The Choice\", \"imdb\": 6.2, \"category\": \"Romance\"},\n",
    "    {\"name\": \"Colonia\", \"imdb\": 7.4, \"category\": \"Romance\"},\n",
    "    {\"name\": \"Love\", \"imdb\": 6.0, \"category\": \"Romance\"},\n",
    "    {\"name\": \"Bride Wars\", \"imdb\": 5.4, \"category\": \"Romance\"},\n",
    "    {\"name\": \"AlphaJet\", \"imdb\": 3.2, \"category\": \"War\"},\n",
    "    {\"name\": \"Ringing Crime\", \"imdb\": 4.0, \"category\": \"Crime\"},\n",
    "    {\"name\": \"Joking muck\", \"imdb\": 7.2, \"category\": \"Comedy\"},\n",
    "    {\"name\": \"What is the name\", \"imdb\": 9.2, \"category\": \"Suspense\"},\n",
    "    {\"name\": \"Detective\", \"imdb\": 7.0, \"category\": \"Suspense\"},\n",
    "    {\"name\": \"Exam\", \"imdb\": 4.2, \"category\": \"Thriller\"},\n",
    "    {\"name\": \"We Two\", \"imdb\": 7.2, \"category\": \"Romance\"}\n",
    "]\n",
    "\n",
    "# 1\n",
    "def is_highly_rated(movie):\n",
    "    return movie[\"imdb\"] > 5.5\n",
    "\n",
    "print(is_highly_rated(movies[0]))\n",
    "\n",
    "# 2\n",
    "def high_rated_movies(movies):\n",
    "    return [movie for movie in movies if movie[\"imdb\"] > 5.5]\n",
    "\n",
    "print(high_rated_movies(movies))\n",
    "\n",
    "# 3\n",
    "def movies_by_category(movies, category):\n",
    "    return [movie for movie in movies if movie[\"category\"] == category]\n",
    "\n",
    "print(movies_by_category(movies, \"Romance\"))\n",
    "\n",
    "# 4\n",
    "def average_imdb(movies):\n",
    "    return sum(movie[\"imdb\"] for movie in movies) / len(movies)\n",
    "\n",
    "print(average_imdb(movies))\n",
    "\n",
    "# 5\n",
    "def average_imdb_by_category(movies, category):\n",
    "    category_movies = movies_by_category(movies, category)\n",
    "    return average_imdb(category_movies) if category_movies else 0\n",
    "\n",
    "print(average_imdb_by_category(movies, \"Romance\"))\n"
   ]
  },
  {
   "cell_type": "code",
   "execution_count": null,
   "id": "265355e2-9ff5-4abf-9f55-1ee17601912a",
   "metadata": {},
   "outputs": [],
   "source": []
  },
  {
   "cell_type": "code",
   "execution_count": null,
   "id": "7f65c832-985f-451f-b1ad-c81b35074aa8",
   "metadata": {},
   "outputs": [],
   "source": []
  }
 ],
 "metadata": {
  "kernelspec": {
   "display_name": "Python [conda env:base] *",
   "language": "python",
   "name": "conda-base-py"
  },
  "language_info": {
   "codemirror_mode": {
    "name": "ipython",
    "version": 3
   },
   "file_extension": ".py",
   "mimetype": "text/x-python",
   "name": "python",
   "nbconvert_exporter": "python",
   "pygments_lexer": "ipython3",
   "version": "3.12.7"
  }
 },
 "nbformat": 4,
 "nbformat_minor": 5
}
