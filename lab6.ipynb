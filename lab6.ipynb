{
 "cells": [
  {
   "cell_type": "code",
   "execution_count": 1,
   "id": "ea0ead34-3d79-4c5d-a66d-22c56ea40049",
   "metadata": {},
   "outputs": [
    {
     "name": "stdout",
     "output_type": "stream",
     "text": [
      "Файл 'example.txt' создан и записан!\n"
     ]
    }
   ],
   "source": [
    "file_path = \"example.txt\" \n",
    "\n",
    "with open(file_path, \"w\", encoding=\"utf-8\") as file:\n",
    "    file.write(\"Hello, world!\\n\")\n",
    "    file.write(\"Python is fun!\\n\")\n",
    "\n",
    "print(\"Файл 'example.txt' создан и записан!\")"
   ]
  },
  {
   "cell_type": "code",
   "execution_count": 3,
   "id": "b243a1fc-fd37-488f-84fe-bc4c34f9c8b3",
   "metadata": {},
   "outputs": [
    {
     "name": "stdout",
     "output_type": "stream",
     "text": [
      "C:\\Users\\Lenovo\\Desktop\n"
     ]
    }
   ],
   "source": [
    "import os\n",
    "print(os.getcwd())"
   ]
  },
  {
   "cell_type": "code",
   "execution_count": 5,
   "id": "aa7fe409-448e-4d88-8f89-8c4d6059c124",
   "metadata": {},
   "outputs": [
    {
     "name": "stdout",
     "output_type": "stream",
     "text": [
      "all files and folders: ['.ipynb_checkpoints', 'example.txt', 'Lab1.ipynb', 'Lab2.ipynb', 'lab3.ipynb', 'lab6.ipynb']\n"
     ]
    }
   ],
   "source": [
    "#Python Directories and Files exercises \n",
    "#1\n",
    "import os \n",
    "print(\"all files and folders:\", os.listdir(\".\"))"
   ]
  },
  {
   "cell_type": "code",
   "execution_count": 7,
   "id": "a39b0d28-9690-424b-8969-a57f65a95ec6",
   "metadata": {},
   "outputs": [
    {
     "name": "stdout",
     "output_type": "stream",
     "text": [
      "existence: True\n",
      "readability: True\n",
      "writability: True\n",
      "executability: True\n"
     ]
    }
   ],
   "source": [
    "#2\n",
    "import os\n",
    "path = \"example.txt\"\n",
    "print(\"existence:\", os.path.exists(path))\n",
    "print(\"readability:\", os.access(path, os.R_OK))\n",
    "print(\"writability:\", os.access(path, os.W_OK))\n",
    "print(\"executability:\", os.access(path, os.X_OK))"
   ]
  },
  {
   "cell_type": "code",
   "execution_count": 9,
   "id": "83cbc8b4-3ffd-44ca-8625-7009f343681c",
   "metadata": {},
   "outputs": [
    {
     "name": "stdout",
     "output_type": "stream",
     "text": [
      "Путь существует.\n",
      "Папка: C:\\Users\\Lenovo\\Desktop\n",
      "Имя файла: example.txt\n"
     ]
    }
   ],
   "source": [
    "#3\n",
    "import os\n",
    "path = \"example.txt\"\n",
    "if os.path.exists(path):\n",
    "    print(\"Путь существует.\")\n",
    "    print(\"Папка:\", os.path.dirname(os.path.abspath(path)))\n",
    "    print(\"Имя файла:\", os.path.basename(path))\n",
    "else:\n",
    "    print(\"Файл не найден.\")"
   ]
  },
  {
   "cell_type": "code",
   "execution_count": 11,
   "id": "0671789a-252e-4bbb-b01d-16c07f4edf1b",
   "metadata": {},
   "outputs": [
    {
     "name": "stdout",
     "output_type": "stream",
     "text": [
      "Количество строк: 2\n"
     ]
    }
   ],
   "source": [
    "#4\n",
    "file_path = \"example.txt\"\n",
    "with open(file_path, \"r\", encoding=\"utf-8\") as file:\n",
    "    print(\"Количество строк:\", sum(1 for line in file))"
   ]
  },
  {
   "cell_type": "code",
   "execution_count": 13,
   "id": "0f0fb4f2-5964-4035-be5a-1db6e5cf2960",
   "metadata": {},
   "outputs": [
    {
     "name": "stdout",
     "output_type": "stream",
     "text": [
      "Данные записаны в 'output.txt'\n"
     ]
    }
   ],
   "source": [
    "#5\n",
    "file_path = \"output.txt\"\n",
    "data = [\"Apple\", \"Banana\", \"Cherry\"]\n",
    "\n",
    "with open(file_path, \"w\", encoding=\"utf-8\") as file:\n",
    "    for item in data:\n",
    "        file.write(item + \"\\n\")\n",
    "\n",
    "print(\"Данные записаны в 'output.txt'\")"
   ]
  },
  {
   "cell_type": "code",
   "execution_count": 15,
   "id": "cfc4df06-920d-4ab8-8eee-de41f497fe80",
   "metadata": {},
   "outputs": [
    {
     "name": "stdout",
     "output_type": "stream",
     "text": [
      "26 файлов (A-Z) созданы.\n"
     ]
    }
   ],
   "source": [
    "#6\n",
    "import string\n",
    "for letter in string.ascii_uppercase:  # A-Z\n",
    "    file_path = f\"{letter}.txt\"\n",
    "    with open(file_path, \"w\", encoding=\"utf-8\") as file:\n",
    "        file.write(f\"This is file {letter}.txt\\n\")\n",
    "print(\"26 файлов (A-Z) созданы.\")"
   ]
  },
  {
   "cell_type": "code",
   "execution_count": 17,
   "id": "2f50b5af-c1d9-4c4f-9fc8-6bccbe7be4d7",
   "metadata": {},
   "outputs": [
    {
     "name": "stdout",
     "output_type": "stream",
     "text": [
      "Файл 'example.txt' скопирован в 'copy.txt'.\n"
     ]
    }
   ],
   "source": [
    "#7\n",
    "import shutil\n",
    "source = \"example.txt\"\n",
    "destination = \"copy.txt\"\n",
    "\n",
    "shutil.copy(source, destination)\n",
    "print(\"Файл 'example.txt' скопирован в 'copy.txt'.\")"
   ]
  },
  {
   "cell_type": "code",
   "execution_count": 19,
   "id": "0cb1ca2f-fa46-416c-9631-68115b3a1fa6",
   "metadata": {},
   "outputs": [
    {
     "name": "stdout",
     "output_type": "stream",
     "text": [
      "Файл не существует или не может быть удалён.\n"
     ]
    }
   ],
   "source": [
    "#8\n",
    "import os\n",
    "file_path = \"delete_me.txt\"\n",
    "if os.path.exists(file_path) and os.access(file_path, os.W_OK):\n",
    "    os.remove(file_path)\n",
    "    print(\"Файл удалён.\")\n",
    "else:\n",
    "    print(\"Файл не существует или не может быть удалён.\")"
   ]
  },
  {
   "cell_type": "code",
   "execution_count": 21,
   "id": "8faff8b9-8858-42e5-a60a-d00a227dc797",
   "metadata": {},
   "outputs": [
    {
     "name": "stdout",
     "output_type": "stream",
     "text": [
      "Произведение всех чисел в списке: 24\n"
     ]
    }
   ],
   "source": [
    "#Python builtin functions exercises\n",
    "#1\n",
    "from functools import reduce\n",
    "\n",
    "numbers = [1, 2, 3, 4]\n",
    "result = reduce(lambda x, y: x * y, numbers)\n",
    "print(\"Произведение всех чисел в списке:\", result)"
   ]
  },
  {
   "cell_type": "code",
   "execution_count": 23,
   "id": "488a1000-9616-4fee-85b5-2ec830f0f473",
   "metadata": {},
   "outputs": [
    {
     "name": "stdout",
     "output_type": "stream",
     "text": [
      "Количество заглавных букв: 2\n",
      "Количество строчных букв: 8\n"
     ]
    }
   ],
   "source": [
    "#2\n",
    "s = \"Hello World!\"\n",
    "\n",
    "upper_count = sum(1 for c in s if c.isupper())\n",
    "lower_count = sum(1 for c in s if c.islower())\n",
    "\n",
    "print(\"Количество заглавных букв:\", upper_count)\n",
    "print(\"Количество строчных букв:\", lower_count)"
   ]
  },
  {
   "cell_type": "code",
   "execution_count": 25,
   "id": "7c020398-829a-4352-89c0-5041c0d67407",
   "metadata": {},
   "outputs": [
    {
     "name": "stdout",
     "output_type": "stream",
     "text": [
      "Строка 'madam' является палиндромом: True\n"
     ]
    }
   ],
   "source": [
    "#3\n",
    "s = \"madam\"\n",
    "\n",
    "is_palindrome = s == s[::-1]\n",
    "print(f\"Строка '{s}' является палиндромом:\", is_palindrome)"
   ]
  },
  {
   "cell_type": "code",
   "execution_count": 27,
   "id": "548261f5-d787-47de-b121-c35f7f6130b3",
   "metadata": {},
   "outputs": [
    {
     "name": "stdout",
     "output_type": "stream",
     "text": [
      "Квадратный корень из 25100 после 2123 миллисекунд: 158.42979517754858\n"
     ]
    }
   ],
   "source": [
    "#4\n",
    "import time\n",
    "import math\n",
    "\n",
    "number = 25100\n",
    "milliseconds = 2123\n",
    "\n",
    "time.sleep(milliseconds / 1000)\n",
    "result = math.sqrt(number)\n",
    "\n",
    "print(f\"Квадратный корень из {number} после {milliseconds} миллисекунд: {result}\")"
   ]
  },
  {
   "cell_type": "code",
   "execution_count": 29,
   "id": "e9488ae3-1081-493c-af14-2742443787a3",
   "metadata": {},
   "outputs": [
    {
     "name": "stdout",
     "output_type": "stream",
     "text": [
      "Все элементы кортежа являются True: False\n"
     ]
    }
   ],
   "source": [
    "t = (True, True, False)\n",
    "\n",
    "result = all(t)\n",
    "print(\"Все элементы кортежа являются True:\", result)"
   ]
  },
  {
   "cell_type": "code",
   "execution_count": null,
   "id": "dbc499b6-1a50-4a09-91ef-ceb30aa4a02f",
   "metadata": {},
   "outputs": [],
   "source": []
  }
 ],
 "metadata": {
  "kernelspec": {
   "display_name": "Python [conda env:base] *",
   "language": "python",
   "name": "conda-base-py"
  },
  "language_info": {
   "codemirror_mode": {
    "name": "ipython",
    "version": 3
   },
   "file_extension": ".py",
   "mimetype": "text/x-python",
   "name": "python",
   "nbconvert_exporter": "python",
   "pygments_lexer": "ipython3",
   "version": "3.12.7"
  }
 },
 "nbformat": 4,
 "nbformat_minor": 5
}
